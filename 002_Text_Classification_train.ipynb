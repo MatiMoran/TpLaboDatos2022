{
 "cells": [
  {
   "cell_type": "markdown",
   "metadata": {
    "tags": []
   },
   "source": [
    "# Laboratorio de Datos 1ercuat 2022\n",
    "\n",
    "## Clasificacion de Textos - Train\n",
    "\n",
    "### Original - GUardar y Hacer Copia para trabajar - Estado al 30/05/2022"
   ]
  },
  {
   "cell_type": "code",
   "execution_count": 12,
   "metadata": {
    "tags": []
   },
   "outputs": [],
   "source": [
    "import pandas as pd\n",
    "import numpy as np\n",
    "import seaborn as sns\n",
    "from io import StringIO\n",
    "import os\n",
    "import re\n",
    "import matplotlib.pyplot as plt\n",
    "import pickle\n",
    "\n",
    "from time import time\n",
    "\n",
    "import warnings\n",
    "warnings.filterwarnings(\"ignore\")\n",
    "\n",
    "from nltk.corpus import stopwords\n",
    "from nltk.tokenize import word_tokenize\n",
    "from nltk.probability import FreqDist\n",
    "\n",
    "from sklearn.model_selection import train_test_split\n",
    "from sklearn.feature_extraction.text import TfidfVectorizer\n",
    "from sklearn.feature_extraction.text import CountVectorizer\n",
    "from sklearn.feature_selection import chi2\n",
    "from sklearn.svm import LinearSVC\n",
    "from sklearn.model_selection import cross_val_score\n",
    "from sklearn.metrics import confusion_matrix\n",
    "import sklearn as sk\n",
    "\n",
    "from collections import Counter\n",
    "\n",
    "pd.set_option('display.max_columns', False)  \n",
    "pd.set_option('display.expand_frame_repr', False)\n",
    "pd.set_option('max_colwidth', -1)\n",
    "\n",
    "debug = True\n"
   ]
  },
  {
   "cell_type": "code",
   "execution_count": 13,
   "metadata": {
    "tags": []
   },
   "outputs": [],
   "source": [
    "df_clases = '002_Text_Classification_clases.csv'\n",
    "id_clases_df = pd.read_csv(df_clases)[0:8]\n",
    "id_clases_df.drop(columns=['clase'], inplace = True )\n",
    "clase_a_id = dict(id_clases_df.values)\n",
    "id_a_clase = dict(id_clases_df[['id_clase','clase_original']].values)"
   ]
  },
  {
   "cell_type": "code",
   "execution_count": 14,
   "metadata": {
    "scrolled": true
   },
   "outputs": [
    {
     "name": "stdout",
     "output_type": "stream",
     "text": [
      "(3709, 6)\n"
     ]
    },
    {
     "data": {
      "text/html": [
       "<div>\n",
       "<style scoped>\n",
       "    .dataframe tbody tr th:only-of-type {\n",
       "        vertical-align: middle;\n",
       "    }\n",
       "\n",
       "    .dataframe tbody tr th {\n",
       "        vertical-align: top;\n",
       "    }\n",
       "\n",
       "    .dataframe thead th {\n",
       "        text-align: right;\n",
       "    }\n",
       "</style>\n",
       "<table border=\"1\" class=\"dataframe\">\n",
       "  <thead>\n",
       "    <tr style=\"text-align: right;\">\n",
       "      <th></th>\n",
       "      <th>clase_original</th>\n",
       "      <th>texto_original</th>\n",
       "      <th>texto_etl</th>\n",
       "      <th>texto_corregido</th>\n",
       "      <th>id_clase</th>\n",
       "      <th>nro_palabras</th>\n",
       "    </tr>\n",
       "  </thead>\n",
       "  <tbody>\n",
       "    <tr>\n",
       "      <th>0</th>\n",
       "      <td>no_identificada</td>\n",
       "      <td>se normalizo medidor lindero XXXXXXX estado XXXXX/XXXXX cambiando tapa y acometida.</td>\n",
       "      <td>normalizo medidor lindero estado cambiando tapa acometida</td>\n",
       "      <td>se normalizo medidor lindero estado cambiando tapa y acometida</td>\n",
       "      <td>7</td>\n",
       "      <td>7</td>\n",
       "    </tr>\n",
       "    <tr>\n",
       "      <th>1</th>\n",
       "      <td>ok_equipo</td>\n",
       "      <td>se realizo verificacion completa se coloco caja antihurto se cambio pipeta rota energia activa: XXXXX energia reactiva: XXXXXX</td>\n",
       "      <td>realizo verificacion completa coloco caja antihurto cambio pipeta rota energia activa energia reactiva</td>\n",
       "      <td>se realizo verificacion completa se coloco caja antihurto se cambio pipeta rota energia activa energia reactiva</td>\n",
       "      <td>6</td>\n",
       "      <td>13</td>\n",
       "    </tr>\n",
       "    <tr>\n",
       "      <th>2</th>\n",
       "      <td>intrusion</td>\n",
       "      <td>se corto conexion directa sin medidor. en pje XXX camino Y XXXX</td>\n",
       "      <td>corto conexion directo sin medidor pje camino Y</td>\n",
       "      <td>se corto conexion directa sin medidor en pje camino Y</td>\n",
       "      <td>0</td>\n",
       "      <td>8</td>\n",
       "    </tr>\n",
       "    <tr>\n",
       "      <th>3</th>\n",
       "      <td>no_identificada</td>\n",
       "      <td>se cambio medidor monofasico y normaliza.</td>\n",
       "      <td>cambio medidor monofasico normalizo</td>\n",
       "      <td>se cambio medidor monofasico y normaliza</td>\n",
       "      <td>7</td>\n",
       "      <td>4</td>\n",
       "    </tr>\n",
       "    <tr>\n",
       "      <th>4</th>\n",
       "      <td>intrusion</td>\n",
       "      <td>se retira conexion clandestina se normaliza suministro.</td>\n",
       "      <td>retira conexion clandestina normalizo suministro</td>\n",
       "      <td>se retira conexion clandestina se normaliza suministro</td>\n",
       "      <td>0</td>\n",
       "      <td>5</td>\n",
       "    </tr>\n",
       "    <tr>\n",
       "      <th>5</th>\n",
       "      <td>intrusion</td>\n",
       "      <td>numerador manipulado se cambia medidor.</td>\n",
       "      <td>numerador manipulado cambio medidor</td>\n",
       "      <td>numerador manipulado se cambia medidor</td>\n",
       "      <td>0</td>\n",
       "      <td>4</td>\n",
       "    </tr>\n",
       "    <tr>\n",
       "      <th>6</th>\n",
       "      <td>reparacion</td>\n",
       "      <td>cambio de medidor monofasico golpeado con visor roto y tapa monofasica obsoleta.</td>\n",
       "      <td>cambio medidor monofasico golpeado con visor roto tapa monofasica obsoleta</td>\n",
       "      <td>cambio de medidor monofasico golpeado con visor roto y tapa monofasica obsoleta</td>\n",
       "      <td>1</td>\n",
       "      <td>10</td>\n",
       "    </tr>\n",
       "    <tr>\n",
       "      <th>7</th>\n",
       "      <td>intrusion</td>\n",
       "      <td>medidor manipulado fase y neutro invertidos la fase ingresaba por bornera de neutro y el neutro por bornera de fase se normalizo.</td>\n",
       "      <td>medidor manipulado fase neutro invertidos fase ingresaba bornera neutro neutro bornera fase normalizo</td>\n",
       "      <td>medidor manipulado fase y neutro invertidos la fase ingresaba por bornera de neutro y el neutro por bornera de fase se normalizo</td>\n",
       "      <td>0</td>\n",
       "      <td>13</td>\n",
       "    </tr>\n",
       "    <tr>\n",
       "      <th>8</th>\n",
       "      <td>reparacion</td>\n",
       "      <td>se encontro medidor quemado en bornera. se normaliza colocando medidor numero XXXXXXX. se realiza inspeccion completa y se coloca tapa capilla chica. se dejo presintado.</td>\n",
       "      <td>encontro medidor quemado bornera normalizo colocando medidor numero realizo inspeccion completa coloca tapa capilla chica dejo presintado</td>\n",
       "      <td>se encontro medidor quemado en bornera se normaliza colocando medidor numero se realiza inspeccion completa y se coloca tapa capilla chica se dejo presintado</td>\n",
       "      <td>1</td>\n",
       "      <td>17</td>\n",
       "    </tr>\n",
       "    <tr>\n",
       "      <th>9</th>\n",
       "      <td>intrusion</td>\n",
       "      <td>Se Quitó Fraude Fase X Fase. Se Normalizó El Servicio. Se Realiza Acta De Fraude.</td>\n",
       "      <td>quito fraude fase fase normalizo servicio realizo acta fraude</td>\n",
       "      <td>se quito fraude fase por fase se normalizo el servicio se realiza acta de fraude</td>\n",
       "      <td>0</td>\n",
       "      <td>9</td>\n",
       "    </tr>\n",
       "  </tbody>\n",
       "</table>\n",
       "</div>"
      ],
      "text/plain": [
       "    clase_original                                                                                                                                                             texto_original                                                                                                                                  texto_etl                                                                                                                                                  texto_corregido  id_clase  nro_palabras\n",
       "0  no_identificada  se normalizo medidor lindero XXXXXXX estado XXXXX/XXXXX cambiando tapa y acometida.                                                                                        normalizo medidor lindero estado cambiando tapa acometida                                                                                   se normalizo medidor lindero estado cambiando tapa y acometida                                                                                                  7         7           \n",
       "1  ok_equipo        se realizo verificacion completa se coloco caja antihurto se cambio pipeta rota energia activa: XXXXX energia reactiva: XXXXXX                                             realizo verificacion completa coloco caja antihurto cambio pipeta rota energia activa energia reactiva                                      se realizo verificacion completa se coloco caja antihurto se cambio pipeta rota energia activa energia reactiva                                                 6         13          \n",
       "2  intrusion        se corto conexion directa sin medidor. en pje XXX camino Y XXXX                                                                                                            corto conexion directo sin medidor pje camino Y                                                                                             se corto conexion directa sin medidor en pje camino Y                                                                                                           0         8           \n",
       "3  no_identificada  se cambio medidor monofasico y normaliza.                                                                                                                                  cambio medidor monofasico normalizo                                                                                                         se cambio medidor monofasico y normaliza                                                                                                                        7         4           \n",
       "4  intrusion        se retira conexion clandestina se normaliza suministro.                                                                                                                    retira conexion clandestina normalizo suministro                                                                                            se retira conexion clandestina se normaliza suministro                                                                                                          0         5           \n",
       "5  intrusion        numerador manipulado se cambia medidor.                                                                                                                                    numerador manipulado cambio medidor                                                                                                         numerador manipulado se cambia medidor                                                                                                                          0         4           \n",
       "6  reparacion       cambio de medidor monofasico golpeado con visor roto y tapa monofasica obsoleta.                                                                                           cambio medidor monofasico golpeado con visor roto tapa monofasica obsoleta                                                                  cambio de medidor monofasico golpeado con visor roto y tapa monofasica obsoleta                                                                                 1         10          \n",
       "7  intrusion        medidor manipulado fase y neutro invertidos la fase ingresaba por bornera de neutro y el neutro por bornera de fase se normalizo.                                          medidor manipulado fase neutro invertidos fase ingresaba bornera neutro neutro bornera fase normalizo                                       medidor manipulado fase y neutro invertidos la fase ingresaba por bornera de neutro y el neutro por bornera de fase se normalizo                                0         13          \n",
       "8  reparacion       se encontro medidor quemado en bornera. se normaliza colocando medidor numero XXXXXXX. se realiza inspeccion completa y se coloca tapa capilla chica. se dejo presintado.  encontro medidor quemado bornera normalizo colocando medidor numero realizo inspeccion completa coloca tapa capilla chica dejo presintado   se encontro medidor quemado en bornera se normaliza colocando medidor numero se realiza inspeccion completa y se coloca tapa capilla chica se dejo presintado   1         17          \n",
       "9  intrusion        Se Quitó Fraude Fase X Fase. Se Normalizó El Servicio. Se Realiza Acta De Fraude.                                                                                          quito fraude fase fase normalizo servicio realizo acta fraude                                                                               se quito fraude fase por fase se normalizo el servicio se realiza acta de fraude                                                                                0         9           "
      ]
     },
     "execution_count": 14,
     "metadata": {},
     "output_type": "execute_result"
    }
   ],
   "source": [
    "df_train_file = '002_Text_train_final_sin_numeros.csv'\n",
    "df_a_procesar = pd.read_csv(df_train_file)\n",
    "print(df_a_procesar.shape)\n",
    "df_a_procesar.head(10)"
   ]
  },
  {
   "cell_type": "code",
   "execution_count": 15,
   "metadata": {},
   "outputs": [
    {
     "name": "stdout",
     "output_type": "stream",
     "text": [
      "Control de valores nulos\n",
      "-------------------------\n",
      "clase_original\t False\n",
      "texto_original\t False\n",
      "texto_etl\t False\n",
      "texto_corregido\t False\n",
      "id_clase\t False\n",
      "nro_palabras\t False\n"
     ]
    }
   ],
   "source": [
    "print('Control de valores nulos\\n-------------------------')\n",
    "print('clase_original\\t', df_a_procesar['clase_original'].isnull().values.any())\n",
    "print('texto_original\\t',df_a_procesar['texto_original'].isnull().values.any())\n",
    "print('texto_etl\\t',df_a_procesar['texto_etl'].isnull().values.any())\n",
    "print('texto_corregido\\t',df_a_procesar['texto_corregido'].isnull().values.any())\n",
    "print('id_clase\\t',df_a_procesar['id_clase'].isnull().values.any())\n",
    "print('nro_palabras\\t',df_a_procesar['nro_palabras'].isnull().values.any())"
   ]
  },
  {
   "cell_type": "code",
   "execution_count": 16,
   "metadata": {
    "scrolled": true,
    "tags": []
   },
   "outputs": [
    {
     "data": {
      "image/png": "[encoded data removed]",
      "text/plain": [
       "<Figure size 1080x216 with 1 Axes>"
      ]
     },
     "metadata": {
      "needs_background": "light"
     },
     "output_type": "display_data"
    }
   ],
   "source": [
    "# Histograma del número de palabras\n",
    "fig = plt.figure(figsize=(15,3))\n",
    "df_a_procesar.groupby('nro_palabras').texto_original.count().plot.bar(ylim=0)\n",
    "plt.xticks(rotation=45, ha=\"right\", fontsize=12)\n",
    "plt.show();"
   ]
  },
  {
   "cell_type": "code",
   "execution_count": 17,
   "metadata": {
    "tags": []
   },
   "outputs": [
    {
     "name": "stdout",
     "output_type": "stream",
     "text": [
      "(3446, 6)\n"
     ]
    }
   ],
   "source": [
    "# Seleccion limitando la cantidad de palabras\n",
    "limite_de_palabras = 20\n",
    "df_a_procesar = df_a_procesar[df_a_procesar['nro_palabras']<=limite_de_palabras]\n",
    "print(df_a_procesar.shape)"
   ]
  },
  {
   "cell_type": "code",
   "execution_count": 18,
   "metadata": {
    "scrolled": true,
    "tags": []
   },
   "outputs": [
    {
     "data": {
      "image/png": "[encoded data removed]",
      "text/plain": [
       "<Figure size 1080x216 with 1 Axes>"
      ]
     },
     "metadata": {
      "needs_background": "light"
     },
     "output_type": "display_data"
    }
   ],
   "source": [
    "# Cantidad de textos por clase original\n",
    "fig = plt.figure(figsize=(15,3))\n",
    "df_a_procesar.groupby('clase_original').texto_original.count().plot.bar(ylim=0)\n",
    "plt.xticks(rotation=45, ha=\"right\", fontsize=12)\n",
    "plt.show()"
   ]
  },
  {
   "cell_type": "code",
   "execution_count": 19,
   "metadata": {
    "scrolled": true
   },
   "outputs": [
    {
     "data": {
      "text/plain": [
       "clase_original\n",
       "intrusion          710\n",
       "seguridad          512\n",
       "reparacion         433\n",
       "no_identificada    424\n",
       "ok_equipo          380\n",
       "sin_realizar       337\n",
       "visitada           332\n",
       "market             318\n",
       "Name: texto_original, dtype: int64"
      ]
     },
     "execution_count": 19,
     "metadata": {},
     "output_type": "execute_result"
    }
   ],
   "source": [
    "df_a_procesar.groupby('clase_original').texto_original.count().sort_values(ascending=False) "
   ]
  },
  {
   "cell_type": "markdown",
   "metadata": {
    "tags": []
   },
   "source": [
    "# Proceso con modelo tfidf\n",
    "\n",
    "## Seleccion de caracteristicas"
   ]
  },
  {
   "cell_type": "code",
   "execution_count": 20,
   "metadata": {
    "scrolled": true
   },
   "outputs": [],
   "source": [
    "tfidf = TfidfVectorizer(sublinear_tf=True, min_df=5, norm='l2', encoding='utf-8', ngram_range=(1, 4)) #, stop_words=stop_words_spanish)\n",
    "features = tfidf.fit_transform(df_a_procesar.texto_etl)\n",
    "features = features.toarray()\n",
    "labels = df_a_procesar.id_clase\n",
    "\n",
    "pickle.dump(features, open('030_train_tfidf_features.pkl', 'wb'))\n",
    "pickle.dump(features, open('030_train_tfidf.pkl', 'wb'))"
   ]
  },
  {
   "cell_type": "code",
   "execution_count": 21,
   "metadata": {},
   "outputs": [
    {
     "name": "stdout",
     "output_type": "stream",
     "text": [
      "X_train shape = (2584,) \tY_train shape = (2584,)\n",
      "X_test  shape = (862,) \tY_test  shape = (862,)\n",
      "2633    no_identificada\n",
      "2567    seguridad      \n",
      "3121    market         \n",
      "2798    ok_equipo      \n",
      "1187    intrusion      \n",
      "          ...          \n",
      "3334    no_identificada\n",
      "245     no_identificada\n",
      "3456    visitada       \n",
      "721     ok_equipo      \n",
      "2394    seguridad      \n",
      "Name: clase_original, Length: 2584, dtype: object\n"
     ]
    }
   ],
   "source": [
    "X_train, X_test, y_train, y_test = train_test_split(df_a_procesar['texto_etl'], df_a_procesar['clase_original'], test_size=0.25, random_state = 0, stratify=df_a_procesar['clase_original'])\n",
    "print('X_train shape =',X_train.shape,'\\tY_train shape =',y_train.shape)\n",
    "print('X_test  shape =',X_test.shape,'\\tY_test  shape =',y_test.shape)\n",
    "print(y_train)"
   ]
  },
  {
   "cell_type": "code",
   "execution_count": 22,
   "metadata": {},
   "outputs": [
    {
     "data": {
      "image/png": "[encoded data removed]",
      "text/plain": [
       "<Figure size 432x288 with 1 Axes>"
      ]
     },
     "metadata": {
      "needs_background": "light"
     },
     "output_type": "display_data"
    }
   ],
   "source": [
    "from sklearn.linear_model import SGDClassifier\n",
    "from sklearn.svm import LinearSVC\n",
    "from sklearn.linear_model import LogisticRegression\n",
    "from sklearn.model_selection import cross_val_score\n",
    "from sklearn.naive_bayes import MultinomialNB\n",
    "from sklearn.ensemble import GradientBoostingClassifier\n",
    "from sklearn.ensemble import RandomForestClassifier\n",
    "from sklearn.calibration import CalibratedClassifierCV\n",
    "from sklearn.svm import SVC\n",
    "\n",
    "models = [\n",
    "    SVC(kernel = 'rbf', random_state = 0),\n",
    "    #LinearSVC(),\n",
    "    #LogisticRegression(),\n",
    "    #MultinomialNB(),\n",
    "    #SGDClassifier(),\n",
    "    #CalibratedClassifierCV()\n",
    "    #RandomForestClassifier(n_estimators=500, max_depth=3, random_state=0),\n",
    "    #GradientBoostingClassifier(n_estimators=500, learning_rate=1.0,max_depth=3, random_state=0)\n",
    "]\n",
    "CV = 20\n",
    "cv_df = pd.DataFrame(index=range(CV * len(models)))\n",
    "entries = []\n",
    "for model in models:\n",
    "  model_name = model.__class__.__name__\n",
    "  accuracies = cross_val_score(model, features, labels, scoring='accuracy', cv=CV)\n",
    "  for fold_idx, accuracy in enumerate(accuracies):\n",
    "    entries.append((model_name, fold_idx, accuracy))\n",
    "cv_df = pd.DataFrame(entries, columns=['model_name', 'fold_idx', 'accuracy'])\n",
    "\n",
    "\n",
    "sns.boxplot(x='model_name', y='accuracy', data=cv_df)\n",
    "sns.stripplot(x='model_name', y='accuracy', data=cv_df, size=10, jitter=True, edgecolor=\"gray\", linewidth=2)\n",
    "plt.xticks(rotation=45)\n",
    "plt.show()"
   ]
  },
  {
   "cell_type": "code",
   "execution_count": 23,
   "metadata": {},
   "outputs": [
    {
     "name": "stdout",
     "output_type": "stream",
     "text": [
      "model_name\n",
      "SVC    0.771105\n",
      "Name: accuracy, dtype: float64\n",
      "model_name\n",
      "SVC    0.066028\n",
      "Name: accuracy, dtype: float64\n"
     ]
    }
   ],
   "source": [
    "print(cv_df.groupby('model_name').accuracy.mean())\n",
    "print(cv_df.groupby('model_name').accuracy.std())"
   ]
  },
  {
   "cell_type": "markdown",
   "metadata": {},
   "source": [
    "\n",
    "## Grid Search"
   ]
  },
  {
   "cell_type": "code",
   "execution_count": 24,
   "metadata": {},
   "outputs": [
    {
     "name": "stdout",
     "output_type": "stream",
     "text": [
      "(3446, 6)\n",
      "(2584, 2322)\n"
     ]
    }
   ],
   "source": [
    "from sklearn.model_selection import GridSearchCV\n",
    "from sklearn.metrics import classification_report\n",
    "from sklearn.svm import SVC\n",
    "\n",
    "X_train, X_test, y_train, y_test, indices_train, indices_test = train_test_split(features, labels, df_a_procesar.index, test_size=0.25, random_state=0, stratify=df_a_procesar['id_clase'])\n",
    "\n",
    "model_linear_svc = LinearSVC()\n",
    "\n",
    "model_linear_rbf = SVC(kernel = 'rbf', random_state = 0)\n",
    "\n",
    "print(df_a_procesar.shape)\n",
    "print(X_train.shape)"
   ]
  },
  {
   "cell_type": "code",
   "execution_count": 25,
   "metadata": {},
   "outputs": [
    {
     "data": {
      "text/plain": [
       "{'C': 1.0,\n",
       " 'class_weight': None,\n",
       " 'dual': True,\n",
       " 'fit_intercept': True,\n",
       " 'intercept_scaling': 1,\n",
       " 'loss': 'squared_hinge',\n",
       " 'max_iter': 1000,\n",
       " 'multi_class': 'ovr',\n",
       " 'penalty': 'l2',\n",
       " 'random_state': None,\n",
       " 'tol': 0.0001,\n",
       " 'verbose': 0}"
      ]
     },
     "execution_count": 25,
     "metadata": {},
     "output_type": "execute_result"
    }
   ],
   "source": [
    "# Grid Search para LinearSVC\n",
    "params = {'max_iter': [5,10,15,20,25,30,40,50,60,70,80,100], 'penalty': ['l1', 'l2'], 'loss': ['hinge', 'squared_hinge']}\n",
    "Grid_Search_LinearSVC = GridSearchCV(model_linear_svc, params, scoring='accuracy', cv=25)\n",
    "Grid_Search_LinearSVC.fit(X_train, y_train)\n",
    "\n",
    "model_linear_svc.get_params()"
   ]
  },
  {
   "cell_type": "code",
   "execution_count": 26,
   "metadata": {},
   "outputs": [
    {
     "name": "stdout",
     "output_type": "stream",
     "text": [
      "# Tuning hyper-parameters for precision\n",
      "\n",
      "Best parameters set found on development set:\n",
      "\n",
      "{'C': 1000, 'gamma': 0.0001, 'kernel': 'rbf'}\n",
      "\n",
      "Grid scores on development set:\n",
      "\n",
      "0.026 (+/-0.000) for {'C': 1, 'gamma': 0.001, 'kernel': 'rbf'}\n",
      "0.026 (+/-0.000) for {'C': 1, 'gamma': 0.0001, 'kernel': 'rbf'}\n",
      "0.026 (+/-0.000) for {'C': 10, 'gamma': 0.001, 'kernel': 'rbf'}\n",
      "0.026 (+/-0.000) for {'C': 10, 'gamma': 0.0001, 'kernel': 'rbf'}\n",
      "0.772 (+/-0.031) for {'C': 100, 'gamma': 0.001, 'kernel': 'rbf'}\n",
      "0.026 (+/-0.000) for {'C': 100, 'gamma': 0.0001, 'kernel': 'rbf'}\n",
      "0.754 (+/-0.038) for {'C': 1000, 'gamma': 0.001, 'kernel': 'rbf'}\n",
      "0.772 (+/-0.032) for {'C': 1000, 'gamma': 0.0001, 'kernel': 'rbf'}\n",
      "0.770 (+/-0.051) for {'C': 1, 'kernel': 'linear'}\n",
      "0.736 (+/-0.032) for {'C': 10, 'kernel': 'linear'}\n",
      "0.734 (+/-0.031) for {'C': 100, 'kernel': 'linear'}\n",
      "0.735 (+/-0.032) for {'C': 1000, 'kernel': 'linear'}\n",
      "\n",
      "Detailed classification report:\n",
      "\n",
      "The model is trained on the full development set.\n",
      "The scores are computed on the full evaluation set.\n",
      "\n",
      "              precision    recall  f1-score   support\n",
      "\n",
      "           0       0.81      0.88      0.84       178\n",
      "           1       0.82      0.84      0.83       108\n",
      "           2       0.94      0.39      0.55        80\n",
      "           3       0.92      0.78      0.84        83\n",
      "           4       0.89      0.65      0.75        84\n",
      "           5       0.72      0.88      0.79       128\n",
      "           6       0.83      0.61      0.70        95\n",
      "           7       0.38      0.59      0.46       106\n",
      "\n",
      "    accuracy                           0.73       862\n",
      "   macro avg       0.79      0.70      0.72       862\n",
      "weighted avg       0.78      0.73      0.74       862\n",
      "\n",
      "\n",
      "# Tuning hyper-parameters for recall\n",
      "\n",
      "Best parameters set found on development set:\n",
      "\n",
      "{'C': 1, 'kernel': 'linear'}\n",
      "\n",
      "Grid scores on development set:\n",
      "\n",
      "0.125 (+/-0.000) for {'C': 1, 'gamma': 0.001, 'kernel': 'rbf'}\n",
      "0.125 (+/-0.000) for {'C': 1, 'gamma': 0.0001, 'kernel': 'rbf'}\n",
      "0.125 (+/-0.000) for {'C': 10, 'gamma': 0.001, 'kernel': 'rbf'}\n",
      "0.125 (+/-0.000) for {'C': 10, 'gamma': 0.0001, 'kernel': 'rbf'}\n",
      "0.692 (+/-0.042) for {'C': 100, 'gamma': 0.001, 'kernel': 'rbf'}\n",
      "0.125 (+/-0.000) for {'C': 100, 'gamma': 0.0001, 'kernel': 'rbf'}\n",
      "0.753 (+/-0.050) for {'C': 1000, 'gamma': 0.001, 'kernel': 'rbf'}\n",
      "0.693 (+/-0.043) for {'C': 1000, 'gamma': 0.0001, 'kernel': 'rbf'}\n",
      "0.764 (+/-0.057) for {'C': 1, 'kernel': 'linear'}\n",
      "0.732 (+/-0.052) for {'C': 10, 'kernel': 'linear'}\n",
      "0.730 (+/-0.051) for {'C': 100, 'kernel': 'linear'}\n",
      "0.730 (+/-0.051) for {'C': 1000, 'kernel': 'linear'}\n",
      "\n",
      "Detailed classification report:\n",
      "\n",
      "The model is trained on the full development set.\n",
      "The scores are computed on the full evaluation set.\n",
      "\n",
      "              precision    recall  f1-score   support\n",
      "\n",
      "           0       0.86      0.86      0.86       178\n",
      "           1       0.81      0.84      0.83       108\n",
      "           2       0.80      0.70      0.75        80\n",
      "           3       0.88      0.88      0.88        83\n",
      "           4       0.85      0.79      0.81        84\n",
      "           5       0.73      0.84      0.78       128\n",
      "           6       0.75      0.67      0.71        95\n",
      "           7       0.49      0.50      0.49       106\n",
      "\n",
      "    accuracy                           0.77       862\n",
      "   macro avg       0.77      0.76      0.76       862\n",
      "weighted avg       0.77      0.77      0.77       862\n",
      "\n",
      "\n"
     ]
    }
   ],
   "source": [
    "# Grid Search para Radial Kernel SVC\n",
    "tuned_parameters = [\n",
    "    {\"kernel\": [\"rbf\"], \"gamma\": [1e-3, 1e-4], \"C\": [1, 10, 100, 1000]},\n",
    "    {\"kernel\": [\"linear\"], \"C\": [1, 10, 100, 1000]},\n",
    "]\n",
    "\n",
    "scores = [\"precision\", \"recall\"]\n",
    "for score in scores:\n",
    "    print(\"# Tuning hyper-parameters for %s\" % score)\n",
    "    print()\n",
    "\n",
    "    clf = GridSearchCV(SVC(), tuned_parameters, scoring=\"%s_macro\" % score)\n",
    "    clf.fit(X_train, y_train)\n",
    "\n",
    "    print(\"Best parameters set found on development set:\")\n",
    "    print()\n",
    "    print(clf.best_params_)\n",
    "    print()\n",
    "    print(\"Grid scores on development set:\")\n",
    "    print()\n",
    "    means = clf.cv_results_[\"mean_test_score\"]\n",
    "    stds = clf.cv_results_[\"std_test_score\"]\n",
    "    for mean, std, params in zip(means, stds, clf.cv_results_[\"params\"]):\n",
    "        print(\"%0.3f (+/-%0.03f) for %r\" % (mean, std * 2, params))\n",
    "    print()\n",
    "\n",
    "    print(\"Detailed classification report:\")\n",
    "    print()\n",
    "    print(\"The model is trained on the full development set.\")\n",
    "    print(\"The scores are computed on the full evaluation set.\")\n",
    "    print()\n",
    "    y_true, y_pred = y_test, clf.predict(X_test)\n",
    "    print(classification_report(y_true, y_pred))\n",
    "    print()\n"
   ]
  },
  {
   "cell_type": "code",
   "execution_count": 27,
   "metadata": {},
   "outputs": [
    {
     "name": "stdout",
     "output_type": "stream",
     "text": [
      "El mejor score es:\n",
      "0.7836855862584019\n",
      "Los mejores parámetros son:\n",
      "{'loss': 'hinge', 'max_iter': 15, 'penalty': 'l2'}\n"
     ]
    }
   ],
   "source": [
    "print(\"El mejor score es:\")\n",
    "print(Grid_Search_LinearSVC.best_score_)\n",
    "print(\"Los mejores parámetros son:\")\n",
    "print(Grid_Search_LinearSVC.best_params_)"
   ]
  },
  {
   "cell_type": "code",
   "execution_count": 28,
   "metadata": {},
   "outputs": [
    {
     "data": {
      "image/png": "[encoded data removed]",
      "text/plain": [
       "<Figure size 720x720 with 2 Axes>"
      ]
     },
     "metadata": {
      "needs_background": "light"
     },
     "output_type": "display_data"
    }
   ],
   "source": [
    "#model = SGDClassifier()\n",
    "Best_Params_LinearSVC = Grid_Search_LinearSVC.best_estimator_\n",
    "model = Best_Params_LinearSVC\n",
    "#X_train, X_test, y_train, y_test, indices_train, indices_test = train_test_split(features, labels, df.index, test_size=0.25, random_state=0, stratify=df['category_id'])\n",
    "model.fit(X_train, y_train)\n",
    "y_pred = model.predict(X_test)\n",
    "conf_mat = confusion_matrix(y_test, y_pred)\n",
    "fig, ax = plt.subplots(figsize=(10,10))\n",
    "sns.heatmap(conf_mat, annot=True, fmt='d', cmap=\"Blues\",\n",
    "            xticklabels=id_clases_df['clase_original'].values, yticklabels=id_clases_df['clase_original'].values)\n",
    "plt.ylabel('Real')\n",
    "plt.xlabel('Predicha')\n",
    "plt.show()"
   ]
  },
  {
   "cell_type": "code",
   "execution_count": 29,
   "metadata": {},
   "outputs": [],
   "source": [
    "df_confusion = pd.crosstab(y_test, y_pred)\n",
    "df_confusion.to_csv('030_Text_matriz_confusion.csv', index=False)"
   ]
  },
  {
   "cell_type": "code",
   "execution_count": 31,
   "metadata": {},
   "outputs": [
    {
     "name": "stdout",
     "output_type": "stream",
     "text": [
      "                 precision    recall  f1-score   support\n",
      "\n",
      "no_identificada       0.84      0.88      0.86       178\n",
      "      ok_equipo       0.81      0.91      0.86       108\n",
      "      intrusion       0.75      0.65      0.70        80\n",
      "     reparacion       0.84      0.88      0.86        83\n",
      "         market       0.81      0.83      0.82        84\n",
      "      seguridad       0.72      0.82      0.77       128\n",
      "       visitada       0.70      0.68      0.69        95\n",
      "   sin_realizar       0.58      0.41      0.48       106\n",
      "\n",
      "       accuracy                           0.77       862\n",
      "      macro avg       0.76      0.76      0.75       862\n",
      "   weighted avg       0.76      0.77      0.76       862\n",
      "\n"
     ]
    }
   ],
   "source": [
    "from sklearn import metrics\n",
    "\n",
    "print(metrics.classification_report(y_test, y_pred, target_names=df_a_procesar['clase_original'].unique()))"
   ]
  },
  {
   "cell_type": "code",
   "execution_count": 32,
   "metadata": {},
   "outputs": [],
   "source": [
    "from sklearn.calibration import CalibratedClassifierCV\n",
    "clf = CalibratedClassifierCV(model) \n",
    "clf.fit(X_train, y_train)\n",
    "\n",
    "\n",
    "key= '030_adv-Text_linear_svc_bp_prob.pkl'\n",
    "\n",
    "pickle_byte_obj = pickle.dumps(clf)\n"
   ]
  },
  {
   "cell_type": "code",
   "execution_count": 33,
   "metadata": {},
   "outputs": [],
   "source": [
    "import pandas as pd\n",
    "import numpy as np\n",
    "from scipy import interp\n",
    "\n",
    "from  sklearn.metrics import precision_recall_fscore_support\n",
    "from sklearn.metrics import roc_curve, auc\n",
    "from sklearn.preprocessing import LabelBinarizer\n",
    "\n",
    "def class_report(y_true, y_pred, y_score=None, average='micro'):\n",
    "    if y_true.shape != y_pred.shape:\n",
    "        print(\"Error! y_true %s is not the same shape as y_pred %s\" % (\n",
    "              y_true.shape,\n",
    "              y_pred.shape)\n",
    "        )\n",
    "        return\n",
    "\n",
    "    lb = LabelBinarizer()\n",
    "\n",
    "    if len(y_true.shape) == 1:\n",
    "        lb.fit(y_true)\n",
    "\n",
    "    #Value counts of predictions\n",
    "    labels, cnt = np.unique(\n",
    "        y_pred,\n",
    "        return_counts=True)\n",
    "    n_classes = len(labels)\n",
    "    pred_cnt = pd.Series(cnt, index=labels)\n",
    "\n",
    "    metrics_summary = precision_recall_fscore_support(\n",
    "            y_true=y_true,\n",
    "            y_pred=y_pred,\n",
    "            labels=labels)\n",
    "\n",
    "    avg = list(precision_recall_fscore_support(\n",
    "            y_true=y_true, \n",
    "            y_pred=y_pred,\n",
    "            average='weighted'))\n",
    "\n",
    "    metrics_sum_index = ['precision', 'recall', 'f1-score', 'support']\n",
    "    class_report_df = pd.DataFrame(\n",
    "        list(metrics_summary),\n",
    "        index=metrics_sum_index,\n",
    "        columns=labels)\n",
    "\n",
    "    support = class_report_df.loc['support']\n",
    "    total = support.sum() \n",
    "    class_report_df['avg / total'] = avg[:-1] + [total]\n",
    "\n",
    "    class_report_df = class_report_df.T\n",
    "    class_report_df['pred'] = pred_cnt\n",
    "    class_report_df['pred'].iloc[-1] = total\n",
    "\n",
    "    if not (y_score is None):\n",
    "        fpr = dict()\n",
    "        tpr = dict()\n",
    "        roc_auc = dict()\n",
    "        for label_it, label in enumerate(labels):\n",
    "            fpr[label], tpr[label], _ = roc_curve(\n",
    "                (y_true == label).astype(int), \n",
    "                y_score[:, label_it])\n",
    "\n",
    "            roc_auc[label] = auc(fpr[label], tpr[label])\n",
    "\n",
    "        if average == 'micro':\n",
    "            if n_classes <= 2:\n",
    "                fpr[\"avg / total\"], tpr[\"avg / total\"], _ = roc_curve(\n",
    "                    lb.transform(y_true).ravel(), \n",
    "                    y_score[:, 1].ravel())\n",
    "            else:\n",
    "                fpr[\"avg / total\"], tpr[\"avg / total\"], _ = roc_curve(\n",
    "                        lb.transform(y_true).ravel(), \n",
    "                        y_score.ravel())\n",
    "\n",
    "            roc_auc[\"avg / total\"] = auc(\n",
    "                fpr[\"avg / total\"], \n",
    "                tpr[\"avg / total\"])\n",
    "\n",
    "        elif average == 'macro':\n",
    "            # First aggregate all false positive rates\n",
    "            all_fpr = np.unique(np.concatenate([\n",
    "                fpr[i] for i in labels]\n",
    "            ))\n",
    "\n",
    "            # Then interpolate all ROC curves at this points\n",
    "            mean_tpr = np.zeros_like(all_fpr)\n",
    "            for i in labels:\n",
    "                mean_tpr += interp(all_fpr, fpr[i], tpr[i])\n",
    "\n",
    "            # Finally average it and compute AUC\n",
    "            mean_tpr /= n_classes\n",
    "\n",
    "            fpr[\"macro\"] = all_fpr\n",
    "            tpr[\"macro\"] = mean_tpr\n",
    "\n",
    "            roc_auc[\"avg / total\"] = auc(fpr[\"macro\"], tpr[\"macro\"])\n",
    "\n",
    "        class_report_df['AUC'] = pd.Series(roc_auc)\n",
    "\n",
    "    return class_report_df"
   ]
  },
  {
   "cell_type": "code",
   "execution_count": 34,
   "metadata": {},
   "outputs": [
    {
     "name": "stdout",
     "output_type": "stream",
     "text": [
      "             precision    recall  f1-score  support   pred       AUC\n",
      "0            0.839572   0.882022  0.860274  178.0    187.0  0.979327\n",
      "1            0.809917   0.907407  0.855895  108.0    121.0  0.978559\n",
      "2            0.753623   0.650000  0.697987  80.0     69.0   0.935550\n",
      "3            0.839080   0.879518  0.858824  83.0     87.0   0.992576\n",
      "4            0.813953   0.833333  0.823529  84.0     86.0   0.975043\n",
      "5            0.724138   0.820312  0.769231  128.0    145.0  0.964285\n",
      "6            0.698925   0.684211  0.691489  95.0     93.0   0.940122\n",
      "7            0.581081   0.405660  0.477778  106.0    74.0   0.802829\n",
      "avg / total  0.760908   0.769142  0.761787  862.0    862.0  0.958903\n"
     ]
    }
   ],
   "source": [
    "report_with_auc = class_report(\n",
    "    y_true=y_test, \n",
    "    y_pred=model.predict(X_test), \n",
    "    y_score=clf.predict_proba(X_test))\n",
    "\n",
    "print(report_with_auc)"
   ]
  },
  {
   "cell_type": "code",
   "execution_count": 35,
   "metadata": {},
   "outputs": [],
   "source": [
    "## Probabilidades con CalibratedClassifier\n",
    "\n",
    "## https://medium.com/@manoveg/multi-class-text-classification-with-probability-prediction-for-each-class-using-linearsvc-in-289189fbb100\n",
    "\n",
    "## Interpretacion del modelo nlp\n",
    "\n",
    "### https://medium.com/@kalia_65609/interpreting-an-nlp-model-with-lime-and-shap-834ccfa124e4\n",
    "\n",
    "### https://towardsdatascience.com/explain-nlp-models-with-lime-shap-5c5a9f84d59b\n",
    "\n",
    "## Bayes\n",
    "\n",
    "### https://medium.com/@bedigunjit/simple-guide-to-text-classification-nlp-using-svm-and-naive-bayes-with-python-421db3a72d34"
   ]
  },
  {
   "cell_type": "code",
   "execution_count": null,
   "metadata": {},
   "outputs": [],
   "source": []
  }
 ],
 "metadata": {
  "instance_type": "ml.g4dn.xlarge",
  "kernelspec": {
   "display_name": "Python 3 (ipykernel)",
   "language": "python",
   "name": "python3"
  },
  "language_info": {
   "codemirror_mode": {
    "name": "ipython",
    "version": 3
   },
   "file_extension": ".py",
   "mimetype": "text/x-python",
   "name": "python",
   "nbconvert_exporter": "python",
   "pygments_lexer": "ipython3",
   "version": "3.10.4"
  }
 },
 "nbformat": 4,
 "nbformat_minor": 4
}

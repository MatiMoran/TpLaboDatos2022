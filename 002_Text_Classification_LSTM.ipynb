{
 "cells": [
  {
   "cell_type": "markdown",
   "metadata": {},
   "source": [
    "# Laboratorio de Datos 1ercuat 2022\n",
    "\n",
    "## Multi-Class Text Classification LSTM (Long Short-Term Memory)\n",
    "\n",
    "### Original - GUardar y Hacer Copia para trabajar - Estado al 31/05/2022"
   ]
  },
  {
   "cell_type": "code",
   "execution_count": 1,
   "metadata": {
    "scrolled": true
   },
   "outputs": [
    {
     "data": {
      "text/html": [
       "        <script type=\"text/javascript\">\n",
       "        window.PlotlyConfig = {MathJaxConfig: 'local'};\n",
       "        if (window.MathJax && window.MathJax.Hub && window.MathJax.Hub.Config) {window.MathJax.Hub.Config({SVG: {font: \"STIX-Web\"}});}\n",
       "        if (typeof require !== 'undefined') {\n",
       "        require.undef(\"plotly\");\n",
       "        requirejs.config({\n",
       "            paths: {\n",
       "                'plotly': ['https://cdn.plot.ly/plotly-2.12.1.min']\n",
       "            }\n",
       "        });\n",
       "        require(['plotly'], function(Plotly) {\n",
       "            window._Plotly = Plotly;\n",
       "        });\n",
       "        }\n",
       "        </script>\n",
       "        "
      ]
     },
     "metadata": {},
     "output_type": "display_data"
    },
    {
     "data": {
      "text/html": [
       "        <script type=\"text/javascript\">\n",
       "        window.PlotlyConfig = {MathJaxConfig: 'local'};\n",
       "        if (window.MathJax && window.MathJax.Hub && window.MathJax.Hub.Config) {window.MathJax.Hub.Config({SVG: {font: \"STIX-Web\"}});}\n",
       "        if (typeof require !== 'undefined') {\n",
       "        require.undef(\"plotly\");\n",
       "        requirejs.config({\n",
       "            paths: {\n",
       "                'plotly': ['https://cdn.plot.ly/plotly-2.12.1.min']\n",
       "            }\n",
       "        });\n",
       "        require(['plotly'], function(Plotly) {\n",
       "            window._Plotly = Plotly;\n",
       "        });\n",
       "        }\n",
       "        </script>\n",
       "        "
      ]
     },
     "metadata": {},
     "output_type": "display_data"
    },
    {
     "name": "stderr",
     "output_type": "stream",
     "text": [
      "[nltk_data] Downloading package stopwords to\n",
      "[nltk_data]     C:\\Users\\asomoza\\AppData\\Roaming\\nltk_data...\n",
      "[nltk_data]   Package stopwords is already up-to-date!\n"
     ]
    }
   ],
   "source": [
    "import numpy as np \n",
    "import pandas as pd\n",
    "import seaborn as sns\n",
    "from io import StringIO\n",
    "import os\n",
    "import re\n",
    "import matplotlib.pyplot as plt\n",
    "import pickle\n",
    "\n",
    "from time import time\n",
    "\n",
    "import warnings\n",
    "warnings.filterwarnings(\"ignore\")\n",
    "\n",
    "from keras.preprocessing.text import Tokenizer\n",
    "from keras.preprocessing.sequence import pad_sequences\n",
    "from keras.models import Sequential\n",
    "from keras.layers import Dense, Embedding, LSTM, SpatialDropout1D\n",
    "from sklearn.model_selection import train_test_split\n",
    "from keras.utils.np_utils import to_categorical\n",
    "from keras.callbacks import EarlyStopping\n",
    "from keras.layers import Dropout\n",
    "from keras.models import load_model\n",
    "\n",
    "import re\n",
    "from nltk.corpus import stopwords\n",
    "from nltk import word_tokenize\n",
    "STOPWORDS = set(stopwords.words('spanish'))\n",
    "from bs4 import BeautifulSoup\n",
    "import plotly.graph_objs as go\n",
    "import chart_studio.plotly as py\n",
    "\n",
    "# Depreciadoimport plotly.plotly as py\n",
    "import cufflinks\n",
    "from IPython.core.interactiveshell import InteractiveShell\n",
    "import plotly.figure_factory as ff\n",
    "InteractiveShell.ast_node_interactivity = 'all'\n",
    "from plotly.offline import iplot\n",
    "cufflinks.go_offline()\n",
    "cufflinks.set_config_file(world_readable=True, theme='pearl')\n",
    "\n",
    "import nltk\n",
    "nltk.download('stopwords')\n",
    "\n",
    "pd.set_option('display.max_columns', False)  \n",
    "pd.set_option('display.expand_frame_repr', False)\n",
    "pd.set_option('max_colwidth', -1)\n",
    "\n",
    "debug = True"
   ]
  },
  {
   "cell_type": "code",
   "execution_count": 2,
   "metadata": {},
   "outputs": [],
   "source": [
    "df_clases = '002_Text_Classification_clases.csv'\n",
    "id_clases_df = pd.read_csv(df_clases)[0:8]\n",
    "id_clases_df.drop(columns=['clase'], inplace = True )\n",
    "clase_a_id = dict(id_clases_df.values)\n",
    "id_a_clase = dict(id_clases_df[['id_clase','clase_original']].values)"
   ]
  },
  {
   "cell_type": "code",
   "execution_count": 3,
   "metadata": {},
   "outputs": [
    {
     "name": "stdout",
     "output_type": "stream",
     "text": [
      "(3709, 6)\n"
     ]
    },
    {
     "data": {
      "text/html": [
       "<div>\n",
       "<style scoped>\n",
       "    .dataframe tbody tr th:only-of-type {\n",
       "        vertical-align: middle;\n",
       "    }\n",
       "\n",
       "    .dataframe tbody tr th {\n",
       "        vertical-align: top;\n",
       "    }\n",
       "\n",
       "    .dataframe thead th {\n",
       "        text-align: right;\n",
       "    }\n",
       "</style>\n",
       "<table border=\"1\" class=\"dataframe\">\n",
       "  <thead>\n",
       "    <tr style=\"text-align: right;\">\n",
       "      <th></th>\n",
       "      <th>clase_original</th>\n",
       "      <th>texto_original</th>\n",
       "      <th>texto_etl</th>\n",
       "      <th>texto_corregido</th>\n",
       "      <th>id_clase</th>\n",
       "      <th>nro_palabras</th>\n",
       "    </tr>\n",
       "  </thead>\n",
       "  <tbody>\n",
       "    <tr>\n",
       "      <th>0</th>\n",
       "      <td>no_identificada</td>\n",
       "      <td>se normalizo medidor lindero XXXXXXX estado XXXXX/XXXXX cambiando tapa y acometida.</td>\n",
       "      <td>normalizo medidor lindero estado cambiando tapa acometida</td>\n",
       "      <td>se normalizo medidor lindero estado cambiando tapa y acometida</td>\n",
       "      <td>7</td>\n",
       "      <td>7</td>\n",
       "    </tr>\n",
       "    <tr>\n",
       "      <th>1</th>\n",
       "      <td>ok_equipo</td>\n",
       "      <td>se realizo verificacion completa se coloco caja antihurto se cambio pipeta rota energia activa: XXXXX energia reactiva: XXXXXX</td>\n",
       "      <td>realizo verificacion completa coloco caja antihurto cambio pipeta rota energia activa energia reactiva</td>\n",
       "      <td>se realizo verificacion completa se coloco caja antihurto se cambio pipeta rota energia activa energia reactiva</td>\n",
       "      <td>6</td>\n",
       "      <td>13</td>\n",
       "    </tr>\n",
       "    <tr>\n",
       "      <th>2</th>\n",
       "      <td>intrusion</td>\n",
       "      <td>se corto conexion directa sin medidor. en pje XXX camino Y XXXX</td>\n",
       "      <td>corto conexion directo sin medidor pje camino Y</td>\n",
       "      <td>se corto conexion directa sin medidor en pje camino Y</td>\n",
       "      <td>0</td>\n",
       "      <td>8</td>\n",
       "    </tr>\n",
       "    <tr>\n",
       "      <th>3</th>\n",
       "      <td>no_identificada</td>\n",
       "      <td>se cambio medidor monofasico y normaliza.</td>\n",
       "      <td>cambio medidor monofasico normalizo</td>\n",
       "      <td>se cambio medidor monofasico y normaliza</td>\n",
       "      <td>7</td>\n",
       "      <td>4</td>\n",
       "    </tr>\n",
       "    <tr>\n",
       "      <th>4</th>\n",
       "      <td>intrusion</td>\n",
       "      <td>se retira conexion clandestina se normaliza suministro.</td>\n",
       "      <td>retira conexion clandestina normalizo suministro</td>\n",
       "      <td>se retira conexion clandestina se normaliza suministro</td>\n",
       "      <td>0</td>\n",
       "      <td>5</td>\n",
       "    </tr>\n",
       "    <tr>\n",
       "      <th>5</th>\n",
       "      <td>intrusion</td>\n",
       "      <td>numerador manipulado se cambia medidor.</td>\n",
       "      <td>numerador manipulado cambio medidor</td>\n",
       "      <td>numerador manipulado se cambia medidor</td>\n",
       "      <td>0</td>\n",
       "      <td>4</td>\n",
       "    </tr>\n",
       "    <tr>\n",
       "      <th>6</th>\n",
       "      <td>reparacion</td>\n",
       "      <td>cambio de medidor monofasico golpeado con visor roto y tapa monofasica obsoleta.</td>\n",
       "      <td>cambio medidor monofasico golpeado con visor roto tapa monofasica obsoleta</td>\n",
       "      <td>cambio de medidor monofasico golpeado con visor roto y tapa monofasica obsoleta</td>\n",
       "      <td>1</td>\n",
       "      <td>10</td>\n",
       "    </tr>\n",
       "    <tr>\n",
       "      <th>7</th>\n",
       "      <td>intrusion</td>\n",
       "      <td>medidor manipulado fase y neutro invertidos la fase ingresaba por bornera de neutro y el neutro por bornera de fase se normalizo.</td>\n",
       "      <td>medidor manipulado fase neutro invertidos fase ingresaba bornera neutro neutro bornera fase normalizo</td>\n",
       "      <td>medidor manipulado fase y neutro invertidos la fase ingresaba por bornera de neutro y el neutro por bornera de fase se normalizo</td>\n",
       "      <td>0</td>\n",
       "      <td>13</td>\n",
       "    </tr>\n",
       "    <tr>\n",
       "      <th>8</th>\n",
       "      <td>reparacion</td>\n",
       "      <td>se encontro medidor quemado en bornera. se normaliza colocando medidor numero XXXXXXX. se realiza inspeccion completa y se coloca tapa capilla chica. se dejo presintado.</td>\n",
       "      <td>encontro medidor quemado bornera normalizo colocando medidor numero realizo inspeccion completa coloca tapa capilla chica dejo presintado</td>\n",
       "      <td>se encontro medidor quemado en bornera se normaliza colocando medidor numero se realiza inspeccion completa y se coloca tapa capilla chica se dejo presintado</td>\n",
       "      <td>1</td>\n",
       "      <td>17</td>\n",
       "    </tr>\n",
       "    <tr>\n",
       "      <th>9</th>\n",
       "      <td>intrusion</td>\n",
       "      <td>Se Quitó Fraude Fase X Fase. Se Normalizó El Servicio. Se Realiza Acta De Fraude.</td>\n",
       "      <td>quito fraude fase fase normalizo servicio realizo acta fraude</td>\n",
       "      <td>se quito fraude fase por fase se normalizo el servicio se realiza acta de fraude</td>\n",
       "      <td>0</td>\n",
       "      <td>9</td>\n",
       "    </tr>\n",
       "  </tbody>\n",
       "</table>\n",
       "</div>"
      ],
      "text/plain": [
       "    clase_original                                                                                                                                                             texto_original                                                                                                                                  texto_etl                                                                                                                                                  texto_corregido  id_clase  nro_palabras\n",
       "0  no_identificada  se normalizo medidor lindero XXXXXXX estado XXXXX/XXXXX cambiando tapa y acometida.                                                                                        normalizo medidor lindero estado cambiando tapa acometida                                                                                   se normalizo medidor lindero estado cambiando tapa y acometida                                                                                                  7         7           \n",
       "1  ok_equipo        se realizo verificacion completa se coloco caja antihurto se cambio pipeta rota energia activa: XXXXX energia reactiva: XXXXXX                                             realizo verificacion completa coloco caja antihurto cambio pipeta rota energia activa energia reactiva                                      se realizo verificacion completa se coloco caja antihurto se cambio pipeta rota energia activa energia reactiva                                                 6         13          \n",
       "2  intrusion        se corto conexion directa sin medidor. en pje XXX camino Y XXXX                                                                                                            corto conexion directo sin medidor pje camino Y                                                                                             se corto conexion directa sin medidor en pje camino Y                                                                                                           0         8           \n",
       "3  no_identificada  se cambio medidor monofasico y normaliza.                                                                                                                                  cambio medidor monofasico normalizo                                                                                                         se cambio medidor monofasico y normaliza                                                                                                                        7         4           \n",
       "4  intrusion        se retira conexion clandestina se normaliza suministro.                                                                                                                    retira conexion clandestina normalizo suministro                                                                                            se retira conexion clandestina se normaliza suministro                                                                                                          0         5           \n",
       "5  intrusion        numerador manipulado se cambia medidor.                                                                                                                                    numerador manipulado cambio medidor                                                                                                         numerador manipulado se cambia medidor                                                                                                                          0         4           \n",
       "6  reparacion       cambio de medidor monofasico golpeado con visor roto y tapa monofasica obsoleta.                                                                                           cambio medidor monofasico golpeado con visor roto tapa monofasica obsoleta                                                                  cambio de medidor monofasico golpeado con visor roto y tapa monofasica obsoleta                                                                                 1         10          \n",
       "7  intrusion        medidor manipulado fase y neutro invertidos la fase ingresaba por bornera de neutro y el neutro por bornera de fase se normalizo.                                          medidor manipulado fase neutro invertidos fase ingresaba bornera neutro neutro bornera fase normalizo                                       medidor manipulado fase y neutro invertidos la fase ingresaba por bornera de neutro y el neutro por bornera de fase se normalizo                                0         13          \n",
       "8  reparacion       se encontro medidor quemado en bornera. se normaliza colocando medidor numero XXXXXXX. se realiza inspeccion completa y se coloca tapa capilla chica. se dejo presintado.  encontro medidor quemado bornera normalizo colocando medidor numero realizo inspeccion completa coloca tapa capilla chica dejo presintado   se encontro medidor quemado en bornera se normaliza colocando medidor numero se realiza inspeccion completa y se coloca tapa capilla chica se dejo presintado   1         17          \n",
       "9  intrusion        Se Quitó Fraude Fase X Fase. Se Normalizó El Servicio. Se Realiza Acta De Fraude.                                                                                          quito fraude fase fase normalizo servicio realizo acta fraude                                                                               se quito fraude fase por fase se normalizo el servicio se realiza acta de fraude                                                                                0         9           "
      ]
     },
     "execution_count": 3,
     "metadata": {},
     "output_type": "execute_result"
    }
   ],
   "source": [
    "df_train_file = '002_Text_train_final_sin_numeros.csv'\n",
    "df_a_procesar = pd.read_csv(df_train_file)\n",
    "print(df_a_procesar.shape)\n",
    "df_a_procesar.head(10)"
   ]
  },
  {
   "cell_type": "code",
   "execution_count": 4,
   "metadata": {},
   "outputs": [
    {
     "name": "stdout",
     "output_type": "stream",
     "text": [
      "intrusion          770\n",
      "seguridad          563\n",
      "reparacion         466\n",
      "no_identificada    433\n",
      "ok_equipo          395\n",
      "market             387\n",
      "sin_realizar       362\n",
      "visitada           333\n",
      "Name: clase_original, dtype: int64\n"
     ]
    }
   ],
   "source": [
    "print(df_a_procesar['clase_original'].value_counts())"
   ]
  },
  {
   "cell_type": "code",
   "execution_count": 5,
   "metadata": {},
   "outputs": [
    {
     "name": "stdout",
     "output_type": "stream",
     "text": [
      "Control de valores nulos\n",
      "-------------------------\n",
      "clase_original\t False\n",
      "texto_original\t False\n",
      "texto_etl\t False\n",
      "texto_corregido\t False\n",
      "id_clase\t False\n",
      "nro_palabras\t False\n"
     ]
    }
   ],
   "source": [
    "print('Control de valores nulos\\n-------------------------')\n",
    "print('clase_original\\t', df_a_procesar['clase_original'].isnull().values.any())\n",
    "print('texto_original\\t',df_a_procesar['texto_original'].isnull().values.any())\n",
    "print('texto_etl\\t',df_a_procesar['texto_etl'].isnull().values.any())\n",
    "print('texto_corregido\\t',df_a_procesar['texto_corregido'].isnull().values.any())\n",
    "print('id_clase\\t',df_a_procesar['id_clase'].isnull().values.any())\n",
    "print('nro_palabras\\t',df_a_procesar['nro_palabras'].isnull().values.any())"
   ]
  },
  {
   "cell_type": "code",
   "execution_count": 6,
   "metadata": {},
   "outputs": [
    {
     "data": {
      "image/png": "[encoded data removed]",
      "text/plain": [
       "<Figure size 1500x300 with 1 Axes>"
      ]
     },
     "metadata": {},
     "output_type": "display_data"
    }
   ],
   "source": [
    "# Histograma del número de palabras\n",
    "fig = plt.figure(figsize=(15,3))\n",
    "df_a_procesar.groupby('nro_palabras').texto_original.count().plot.bar(ylim=0)\n",
    "plt.xticks(rotation=45, ha=\"right\", fontsize=12)\n",
    "plt.show();"
   ]
  },
  {
   "cell_type": "code",
   "execution_count": 7,
   "metadata": {},
   "outputs": [],
   "source": [
    "# Seleccion limitando la cantidad de palabras\n",
    "if False:\n",
    "    limite_de_palabras = 20\n",
    "    df_a_procesar = df_a_procesar[df_a_procesar['nro_palabras']<=limite_de_palabras]\n",
    "    print(df_a_procesar.shape)"
   ]
  },
  {
   "cell_type": "code",
   "execution_count": 8,
   "metadata": {},
   "outputs": [
    {
     "data": {
      "image/png": "[encoded data removed]",
      "text/plain": [
       "<Figure size 1500x300 with 1 Axes>"
      ]
     },
     "metadata": {},
     "output_type": "display_data"
    }
   ],
   "source": [
    "# Cantidad de textos por clase original\n",
    "fig = plt.figure(figsize=(15,3))\n",
    "df_a_procesar.groupby('clase_original').texto_original.count().plot.bar(ylim=0)\n",
    "plt.xticks(rotation=45, ha=\"right\", fontsize=12)\n",
    "plt.show();"
   ]
  },
  {
   "cell_type": "code",
   "execution_count": 9,
   "metadata": {},
   "outputs": [
    {
     "data": {
      "text/plain": [
       "clase_original\n",
       "intrusion          770\n",
       "seguridad          563\n",
       "reparacion         466\n",
       "no_identificada    433\n",
       "ok_equipo          395\n",
       "market             387\n",
       "sin_realizar       362\n",
       "visitada           333\n",
       "Name: texto_original, dtype: int64"
      ]
     },
     "execution_count": 9,
     "metadata": {},
     "output_type": "execute_result"
    }
   ],
   "source": [
    "df_a_procesar.groupby('clase_original').texto_original.count().sort_values(ascending=False) "
   ]
  },
  {
   "cell_type": "markdown",
   "metadata": {},
   "source": [
    "## Preparacion de Parametros para LSTM"
   ]
  },
  {
   "cell_type": "code",
   "execution_count": 10,
   "metadata": {},
   "outputs": [
    {
     "name": "stdout",
     "output_type": "stream",
     "text": [
      "Found 2964 unique tokens.\n"
     ]
    }
   ],
   "source": [
    "# The maximum number of words to be used. (most frequent)\n",
    "MAX_NB_WORDS = 50000\n",
    "# Max number of words in each complaint.\n",
    "MAX_SEQUENCE_LENGTH = 250\n",
    "# This is fixed.\n",
    "EMBEDDING_DIM = 100\n",
    "\n",
    "tokenizer = Tokenizer(num_words=MAX_NB_WORDS, filters='!\"#$%&()*+,-./:;<=>?@[\\]^_`{|}~', lower=True)\n",
    "tokenizer.fit_on_texts(df_a_procesar['texto_etl'].values)\n",
    "word_index = tokenizer.word_index\n",
    "print('Found %s unique tokens.' % len(word_index))"
   ]
  },
  {
   "cell_type": "code",
   "execution_count": 11,
   "metadata": {},
   "outputs": [
    {
     "name": "stdout",
     "output_type": "stream",
     "text": [
      "Shape of data tensor: (3709, 250)\n"
     ]
    }
   ],
   "source": [
    "X = tokenizer.texts_to_sequences(df_a_procesar['texto_etl'].values)\n",
    "X = pad_sequences(X, maxlen=MAX_SEQUENCE_LENGTH)\n",
    "print('Shape of data tensor:', X.shape)"
   ]
  },
  {
   "cell_type": "code",
   "execution_count": 12,
   "metadata": {},
   "outputs": [
    {
     "name": "stdout",
     "output_type": "stream",
     "text": [
      "Shape of label tensor: (3709, 8)\n"
     ]
    }
   ],
   "source": [
    "Y = pd.get_dummies(df_a_procesar['clase_original']).values\n",
    "print('Shape of label tensor:', Y.shape)"
   ]
  },
  {
   "cell_type": "code",
   "execution_count": 13,
   "metadata": {},
   "outputs": [
    {
     "name": "stdout",
     "output_type": "stream",
     "text": [
      "X_train shape = (2781, 250) \tY_train shape = (2781, 8)\n",
      "X_test  shape = (928, 250) \tY_test  shape = (928, 8)\n"
     ]
    }
   ],
   "source": [
    "X_train, X_test, Y_train, Y_test = train_test_split(X,Y, test_size=0.25, random_state = 42, stratify=df_a_procesar['clase_original'])\n",
    "print('X_train shape =',X_train.shape,'\\tY_train shape =',Y_train.shape)\n",
    "print('X_test  shape =',X_test.shape,'\\tY_test  shape =',Y_test.shape)\n"
   ]
  },
  {
   "cell_type": "code",
   "execution_count": 14,
   "metadata": {},
   "outputs": [
    {
     "name": "stdout",
     "output_type": "stream",
     "text": [
      "Model: \"sequential\"\n",
      "_________________________________________________________________\n",
      " Layer (type)                Output Shape              Param #   \n",
      "=================================================================\n",
      " embedding (Embedding)       (None, 250, 100)          5000000   \n",
      "                                                                 \n",
      " spatial_dropout1d (SpatialD  (None, 250, 100)         0         \n",
      " ropout1D)                                                       \n",
      "                                                                 \n",
      " lstm (LSTM)                 (None, 100)               80400     \n",
      "                                                                 \n",
      " dense (Dense)               (None, 8)                 808       \n",
      "                                                                 \n",
      "=================================================================\n",
      "Total params: 5,081,208\n",
      "Trainable params: 5,081,208\n",
      "Non-trainable params: 0\n",
      "_________________________________________________________________\n",
      "None\n",
      "<class 'keras.engine.sequential.Sequential'>\n"
     ]
    }
   ],
   "source": [
    "model = Sequential()\n",
    "model.add(Embedding(MAX_NB_WORDS, EMBEDDING_DIM, input_length=X.shape[1]))\n",
    "model.add(SpatialDropout1D(0.2))\n",
    "model.add(LSTM(100, dropout=0.2, recurrent_dropout=0.2))\n",
    "model.add(Dense(8, activation='softmax'))\n",
    "model.compile(loss='categorical_crossentropy', optimizer='adam', metrics=['accuracy'])\n",
    "print(model.summary())\n",
    "print(type(model))"
   ]
  },
  {
   "cell_type": "code",
   "execution_count": 15,
   "metadata": {},
   "outputs": [
    {
     "name": "stdout",
     "output_type": "stream",
     "text": [
      "Epoch 1/20\n",
      "20/20 [==============================] - 19s 864ms/step - loss: 2.0441 - accuracy: 0.2002 - val_loss: 1.9960 - val_accuracy: 0.1864\n",
      "Epoch 2/20\n",
      "20/20 [==============================] - 20s 1s/step - loss: 1.8673 - accuracy: 0.2870 - val_loss: 1.7066 - val_accuracy: 0.4122\n",
      "Epoch 3/20\n",
      "20/20 [==============================] - 22s 1s/step - loss: 1.5531 - accuracy: 0.5044 - val_loss: 1.4151 - val_accuracy: 0.5878\n",
      "Epoch 4/20\n",
      "20/20 [==============================] - 22s 1s/step - loss: 1.2491 - accuracy: 0.6299 - val_loss: 1.1660 - val_accuracy: 0.6810\n",
      "Epoch 5/20\n",
      "20/20 [==============================] - 22s 1s/step - loss: 0.9978 - accuracy: 0.6998 - val_loss: 1.0077 - val_accuracy: 0.6559\n",
      "Epoch 6/20\n",
      "20/20 [==============================] - 22s 1s/step - loss: 0.7894 - accuracy: 0.7654 - val_loss: 0.8771 - val_accuracy: 0.7419\n",
      "Epoch 7/20\n",
      "20/20 [==============================] - 22s 1s/step - loss: 0.6535 - accuracy: 0.8006 - val_loss: 0.8132 - val_accuracy: 0.7527\n",
      "Epoch 8/20\n",
      "20/20 [==============================] - 22s 1s/step - loss: 0.5288 - accuracy: 0.8325 - val_loss: 0.7916 - val_accuracy: 0.7527\n",
      "Epoch 9/20\n",
      "20/20 [==============================] - 22s 1s/step - loss: 0.4561 - accuracy: 0.8549 - val_loss: 0.8035 - val_accuracy: 0.7491\n",
      "Epoch 10/20\n",
      "20/20 [==============================] - 22s 1s/step - loss: 0.4043 - accuracy: 0.8753 - val_loss: 0.8112 - val_accuracy: 0.7527\n",
      "Epoch 11/20\n",
      "20/20 [==============================] - 22s 1s/step - loss: 0.3570 - accuracy: 0.8917 - val_loss: 0.8415 - val_accuracy: 0.7563\n"
     ]
    }
   ],
   "source": [
    "epochs = 20\n",
    "batch_size = 128 #64\n",
    "\n",
    "history = model.fit(X_train, Y_train, epochs=epochs, batch_size=batch_size,validation_split=0.1,callbacks=[EarlyStopping(monitor='val_loss', patience=3, min_delta=0.0001)])"
   ]
  },
  {
   "cell_type": "code",
   "execution_count": 16,
   "metadata": {
    "scrolled": true
   },
   "outputs": [
    {
     "name": "stdout",
     "output_type": "stream",
     "text": [
      "29/29 [==============================] - 1s 31ms/step - loss: 0.7664 - accuracy: 0.7694\n",
      "Test set\n",
      "  Perdida: 0.766\n",
      "  Exactitud: 0.769\n"
     ]
    }
   ],
   "source": [
    "accr = model.evaluate(X_test,Y_test)\n",
    "print('Test set\\n  Perdida: {:0.3f}\\n  Exactitud: {:0.3f}'.format(accr[0],accr[1]))"
   ]
  },
  {
   "cell_type": "code",
   "execution_count": 17,
   "metadata": {},
   "outputs": [
    {
     "data": {
      "image/png": "[encoded data removed]",
      "text/plain": [
       "<Figure size 640x480 with 1 Axes>"
      ]
     },
     "metadata": {},
     "output_type": "display_data"
    }
   ],
   "source": [
    "plt.title('Perdida')\n",
    "plt.plot(history.history['loss'], label='train')\n",
    "plt.plot(history.history['val_loss'], label='test')\n",
    "plt.legend()\n",
    "plt.show();"
   ]
  },
  {
   "cell_type": "code",
   "execution_count": 18,
   "metadata": {},
   "outputs": [
    {
     "data": {
      "image/png": "[encoded data removed]",
      "text/plain": [
       "<Figure size 640x480 with 1 Axes>"
      ]
     },
     "metadata": {},
     "output_type": "display_data"
    }
   ],
   "source": [
    "plt.title('Exactitud')\n",
    "plt.plot(history.history['accuracy'], label='train')\n",
    "plt.plot(history.history['val_accuracy'], label='test')\n",
    "plt.legend()\n",
    "plt.show();"
   ]
  },
  {
   "cell_type": "markdown",
   "metadata": {},
   "source": [
    "## Salvar el modelo LSTM generado\n",
    "\n",
    "* https://machinelearningmastery.com/make-predictions-long-short-term-memory-models-keras/\n",
    "* 1. Saving & Loading Keras Models\n",
    "* 2. https://keras.io/getting-started/faq/#how-can-i-save-a-keras-model\n",
    "\n",
    "* If this is run on Windows then the issue is that currently toco is not supported on Windows \n",
    "* https://github.com/tensorflow/tensorflow/issues/20975"
   ]
  },
  {
   "cell_type": "code",
   "execution_count": 19,
   "metadata": {},
   "outputs": [],
   "source": [
    "model_lstm = model\n",
    "#modelo = '030_textos_modelo_lstm_' + str(limite_de_palabras) + '_palabras.h5'\n",
    "modelo = '030_textos_modelo_lstm_todas_las_palabras.h5'\n",
    "model_lstm.save(modelo)"
   ]
  },
  {
   "cell_type": "code",
   "execution_count": 20,
   "metadata": {},
   "outputs": [],
   "source": [
    "MAX_NB_WORDS = 50000\n",
    "# Max number of words in each complaint.\n",
    "MAX_SEQUENCE_LENGTH = 250\n",
    "# This is fixed.\n",
    "EMBEDDING_DIM = 100"
   ]
  },
  {
   "cell_type": "markdown",
   "metadata": {},
   "source": [
    "## Testeo con archivo nuevo"
   ]
  },
  {
   "cell_type": "code",
   "execution_count": 21,
   "metadata": {},
   "outputs": [],
   "source": [
    "## Eventualmente se rescata pero el rescate no esta funcionando bien\n",
    "import tensorflow as tf\n",
    "from tensorflow.keras.models import save_model, load_model\n",
    "if False:\n",
    "    model = tf.keras.models.load_model(modelo, custom_objects=None, compile=False)"
   ]
  },
  {
   "cell_type": "code",
   "execution_count": 22,
   "metadata": {},
   "outputs": [],
   "source": [
    "model_lstm = model"
   ]
  },
  {
   "cell_type": "code",
   "execution_count": 30,
   "metadata": {},
   "outputs": [
    {
     "name": "stdout",
     "output_type": "stream",
     "text": [
      "(1000, 5)\n"
     ]
    },
    {
     "data": {
      "text/html": [
       "<div>\n",
       "<style scoped>\n",
       "    .dataframe tbody tr th:only-of-type {\n",
       "        vertical-align: middle;\n",
       "    }\n",
       "\n",
       "    .dataframe tbody tr th {\n",
       "        vertical-align: top;\n",
       "    }\n",
       "\n",
       "    .dataframe thead th {\n",
       "        text-align: right;\n",
       "    }\n",
       "</style>\n",
       "<table border=\"1\" class=\"dataframe\">\n",
       "  <thead>\n",
       "    <tr style=\"text-align: right;\">\n",
       "      <th></th>\n",
       "      <th>clase_original</th>\n",
       "      <th>texto_original</th>\n",
       "      <th>texto_etl</th>\n",
       "      <th>texto_corregido</th>\n",
       "      <th>id_clase</th>\n",
       "    </tr>\n",
       "  </thead>\n",
       "  <tbody>\n",
       "    <tr>\n",
       "      <th>0</th>\n",
       "      <td>ok_equipo</td>\n",
       "      <td>Se encontro normal se cambio tapa rectangular chica</td>\n",
       "      <td>encontro normal cambio tapa rectangular chica</td>\n",
       "      <td>se encontro normal se cambio tapa rectangular chica</td>\n",
       "      <td>6</td>\n",
       "    </tr>\n",
       "    <tr>\n",
       "      <th>1</th>\n",
       "      <td>ok_equipo</td>\n",
       "      <td>A garita le pasan suministro desde vivienda. Empleado aduce que no puede tomar esa decisión y hacerse cargo. Jefe del mismo no le atendió su llamado.</td>\n",
       "      <td>garita pasan suministro desde vivienda empleado aduce no puede tomar decision hacerse cargo mismo no atendio llamado</td>\n",
       "      <td>a garita le pasan suministro desde vivienda empleado aduce que no puede tomar esa decision y hacerse cargo jefe del mismo no le atendio su llamado</td>\n",
       "      <td>6</td>\n",
       "    </tr>\n",
       "    <tr>\n",
       "      <th>2</th>\n",
       "      <td>seguridad</td>\n",
       "      <td>Se verifico instalacion y carga del medidor sin anomalias. se cambio tapa plastica por rota y opaca.. se adecuo.</td>\n",
       "      <td>verifico instalacion carga medidor sin anomalia cambio tapa plastica rota opaca adecuo</td>\n",
       "      <td>se verifico instalacion y carga del medidor sin anomalias se cambio tapa plastica por rota y opaca se adecuo</td>\n",
       "      <td>5</td>\n",
       "    </tr>\n",
       "    <tr>\n",
       "      <th>3</th>\n",
       "      <td>reparacion</td>\n",
       "      <td>Se cargó por segunda vez a womSe cambio medidor por sistema móvil trabado a causa se inundó la sala de medidores y afecto a varios se normaliza todos los afectados</td>\n",
       "      <td>cargo segunda vez womse cambio medidor sistema trabado causa inundo sala medidor afecto varios normalizo afectados</td>\n",
       "      <td>se cargo por segunda vez a womse cambio medidor por sistema movil trabado a causa se inundo la sala de medidores y afecto a varios se normaliza todos los afectados</td>\n",
       "      <td>1</td>\n",
       "    </tr>\n",
       "    <tr>\n",
       "      <th>4</th>\n",
       "      <td>sin_tarea</td>\n",
       "      <td>Nombre:retamar\\nMovil:470\\nLegajo ayudante:14091</td>\n",
       "      <td>sin determinar</td>\n",
       "      <td>nombre retamar movil legajo ayudante</td>\n",
       "      <td>7</td>\n",
       "    </tr>\n",
       "  </tbody>\n",
       "</table>\n",
       "</div>"
      ],
      "text/plain": [
       "  clase_original                                                                                                                                                       texto_original                                                                                                             texto_etl                                                                                                                                                       texto_corregido  id_clase\n",
       "0  ok_equipo      Se encontro normal se cambio tapa rectangular chica                                                                                                                  encontro normal cambio tapa rectangular chica                                                                          se encontro normal se cambio tapa rectangular chica                                                                                                                  6       \n",
       "1  ok_equipo      A garita le pasan suministro desde vivienda. Empleado aduce que no puede tomar esa decisión y hacerse cargo. Jefe del mismo no le atendió su llamado.                garita pasan suministro desde vivienda empleado aduce no puede tomar decision hacerse cargo mismo no atendio llamado   a garita le pasan suministro desde vivienda empleado aduce que no puede tomar esa decision y hacerse cargo jefe del mismo no le atendio su llamado                   6       \n",
       "2  seguridad      Se verifico instalacion y carga del medidor sin anomalias. se cambio tapa plastica por rota y opaca.. se adecuo.                                                     verifico instalacion carga medidor sin anomalia cambio tapa plastica rota opaca adecuo                                 se verifico instalacion y carga del medidor sin anomalias se cambio tapa plastica por rota y opaca se adecuo                                                         5       \n",
       "3  reparacion     Se cargó por segunda vez a womSe cambio medidor por sistema móvil trabado a causa se inundó la sala de medidores y afecto a varios se normaliza todos los afectados  cargo segunda vez womse cambio medidor sistema trabado causa inundo sala medidor afecto varios normalizo afectados     se cargo por segunda vez a womse cambio medidor por sistema movil trabado a causa se inundo la sala de medidores y afecto a varios se normaliza todos los afectados  1       \n",
       "4  sin_tarea      Nombre:retamar\\nMovil:470\\nLegajo ayudante:14091                                                                                                                     sin determinar                                                                                                         nombre retamar movil legajo ayudante                                                                                                                                 7       "
      ]
     },
     "execution_count": 30,
     "metadata": {},
     "output_type": "execute_result"
    }
   ],
   "source": [
    "df_test_file = '020_Text_predict_final_sample_1000_20220531.csv'\n",
    "df_nuevo = pd.read_csv(df_test_file)\n",
    "print(df_nuevo.shape)\n",
    "df_nuevo.head()"
   ]
  },
  {
   "cell_type": "code",
   "execution_count": 31,
   "metadata": {},
   "outputs": [],
   "source": [
    "df_resultado = pd.DataFrame()\n",
    "\n",
    "nro_registros_a_procesar= 1000\n",
    "i = 0\n",
    "\n",
    "for index, row in df_nuevo.iterrows():\n",
    "\n",
    "    clase_original = row['clase_original']\n",
    "    #nuevo_texto = [row['texto_etl']]\n",
    "    nuevo_texto = [row['texto_corregido']]\n",
    "    seq = tokenizer.texts_to_sequences(nuevo_texto)\n",
    "    padded = pad_sequences(seq, maxlen=MAX_SEQUENCE_LENGTH)\n",
    "\n",
    "    pred = model.predict(padded)\n",
    "    labels = ['intrusion', 'reparacion', 'marketing', 'visitada', 'sin_realizar', 'seguridad',\n",
    "          'ok_equipo', 'sin_tarea']    \n",
    "    maximo = max(pred[0,0],pred[0,1],pred[0,2],pred[0,3],pred[0,4],pred[0,5],pred[0,6],pred[0,7])\n",
    "    registro = {'Clase.Original':clase_original,\n",
    "        'Clase.LSTM':labels[np.argmax(pred)],\n",
    "        'Certeza.Maxima': maximo,\n",
    "        'pr.intrusion': [pred[0,0]], 'pr.reparacion': [pred[0,1]],\n",
    "        'pr.marketing':[pred[0,2]], 'pr.visitada': [pred[0,3]],      \n",
    "        'pr.sin_realizar':[pred[0,4]], 'pr.seguridad': [pred[0,5]],\n",
    "        'pr.ok_equipo':[pred[0,6]],'pr.sin_tarea':[pred[0,7]],\n",
    "        'texto':nuevo_texto}\n",
    "\n",
    "    #df_append = pd.DataFrame(registro)\n",
    "\n",
    "    #df_resultado = df_resultado.append(df_append, ignore_index=True) \n",
    "    df_resultado = df_resultado.append(registro, ignore_index=True)  \n",
    "\n",
    "    i = i + 1\n",
    "    if i == nro_registros_a_procesar:\n",
    "        break"
   ]
  },
  {
   "cell_type": "code",
   "execution_count": 32,
   "metadata": {},
   "outputs": [
    {
     "name": "stdout",
     "output_type": "stream",
     "text": [
      "(1000, 12)\n"
     ]
    },
    {
     "data": {
      "text/html": [
       "<div>\n",
       "<style scoped>\n",
       "    .dataframe tbody tr th:only-of-type {\n",
       "        vertical-align: middle;\n",
       "    }\n",
       "\n",
       "    .dataframe tbody tr th {\n",
       "        vertical-align: top;\n",
       "    }\n",
       "\n",
       "    .dataframe thead th {\n",
       "        text-align: right;\n",
       "    }\n",
       "</style>\n",
       "<table border=\"1\" class=\"dataframe\">\n",
       "  <thead>\n",
       "    <tr style=\"text-align: right;\">\n",
       "      <th></th>\n",
       "      <th>Clase.Original</th>\n",
       "      <th>Clase.LSTM</th>\n",
       "      <th>Certeza.Maxima</th>\n",
       "      <th>pr.intrusion</th>\n",
       "      <th>pr.reparacion</th>\n",
       "      <th>pr.marketing</th>\n",
       "      <th>pr.visitada</th>\n",
       "      <th>pr.sin_realizar</th>\n",
       "      <th>pr.seguridad</th>\n",
       "      <th>pr.ok_equipo</th>\n",
       "      <th>pr.sin_tarea</th>\n",
       "      <th>texto</th>\n",
       "    </tr>\n",
       "  </thead>\n",
       "  <tbody>\n",
       "    <tr>\n",
       "      <th>0</th>\n",
       "      <td>ok_equipo</td>\n",
       "      <td>seguridad</td>\n",
       "      <td>0.979831</td>\n",
       "      <td>[0.00012207948]</td>\n",
       "      <td>[0.00021804571]</td>\n",
       "      <td>[0.0028395173]</td>\n",
       "      <td>[0.014518757]</td>\n",
       "      <td>[0.0024537675]</td>\n",
       "      <td>[0.97983116]</td>\n",
       "      <td>[4.9159194e-06]</td>\n",
       "      <td>[1.1708999e-05]</td>\n",
       "      <td>[ se encontro normal se cambio tapa rectangular chica]</td>\n",
       "    </tr>\n",
       "    <tr>\n",
       "      <th>1</th>\n",
       "      <td>ok_equipo</td>\n",
       "      <td>ok_equipo</td>\n",
       "      <td>0.810248</td>\n",
       "      <td>[0.00023959276]</td>\n",
       "      <td>[0.1845817]</td>\n",
       "      <td>[0.003960853]</td>\n",
       "      <td>[0.0006513458]</td>\n",
       "      <td>[3.49516e-05]</td>\n",
       "      <td>[0.000112277514]</td>\n",
       "      <td>[0.8102479]</td>\n",
       "      <td>[0.00017144982]</td>\n",
       "      <td>[ a garita le pasan suministro desde vivienda empleado aduce que no puede tomar esa decision y hacerse cargo jefe del mismo no le atendio su llamado ]</td>\n",
       "    </tr>\n",
       "    <tr>\n",
       "      <th>2</th>\n",
       "      <td>seguridad</td>\n",
       "      <td>seguridad</td>\n",
       "      <td>0.916923</td>\n",
       "      <td>[0.001510272]</td>\n",
       "      <td>[0.0020169884]</td>\n",
       "      <td>[0.034251485]</td>\n",
       "      <td>[0.01615637]</td>\n",
       "      <td>[0.028890103]</td>\n",
       "      <td>[0.9169226]</td>\n",
       "      <td>[9.514357e-05]</td>\n",
       "      <td>[0.0001569592]</td>\n",
       "      <td>[ se verifico instalacion y carga del medidor sin anomalias se cambio tapa plastica por rota y opaca se adecuo ]</td>\n",
       "    </tr>\n",
       "    <tr>\n",
       "      <th>3</th>\n",
       "      <td>reparacion</td>\n",
       "      <td>sin_realizar</td>\n",
       "      <td>0.834132</td>\n",
       "      <td>[0.08344119]</td>\n",
       "      <td>[0.019378759]</td>\n",
       "      <td>[0.030196577]</td>\n",
       "      <td>[0.00085101824]</td>\n",
       "      <td>[0.834132]</td>\n",
       "      <td>[0.02546756]</td>\n",
       "      <td>[0.0050521065]</td>\n",
       "      <td>[0.0014808266]</td>\n",
       "      <td>[ se cargo por segunda vez a womse cambio medidor por sistema movil trabado a causa se inundo la sala de medidores y afecto a varios se normaliza todos los afectados]</td>\n",
       "    </tr>\n",
       "    <tr>\n",
       "      <th>4</th>\n",
       "      <td>sin_tarea</td>\n",
       "      <td>marketing</td>\n",
       "      <td>0.730979</td>\n",
       "      <td>[0.01746873]</td>\n",
       "      <td>[0.02744228]</td>\n",
       "      <td>[0.7309788]</td>\n",
       "      <td>[0.0882449]</td>\n",
       "      <td>[0.019792087]</td>\n",
       "      <td>[0.02044655]</td>\n",
       "      <td>[0.017657587]</td>\n",
       "      <td>[0.077969044]</td>\n",
       "      <td>[ nombre retamar movil legajo ayudante ]</td>\n",
       "    </tr>\n",
       "    <tr>\n",
       "      <th>...</th>\n",
       "      <td>...</td>\n",
       "      <td>...</td>\n",
       "      <td>...</td>\n",
       "      <td>...</td>\n",
       "      <td>...</td>\n",
       "      <td>...</td>\n",
       "      <td>...</td>\n",
       "      <td>...</td>\n",
       "      <td>...</td>\n",
       "      <td>...</td>\n",
       "      <td>...</td>\n",
       "      <td>...</td>\n",
       "    </tr>\n",
       "    <tr>\n",
       "      <th>295</th>\n",
       "      <td>ok_equipo</td>\n",
       "      <td>marketing</td>\n",
       "      <td>0.436719</td>\n",
       "      <td>[0.008086472]</td>\n",
       "      <td>[0.09339081]</td>\n",
       "      <td>[0.43671864]</td>\n",
       "      <td>[0.009643806]</td>\n",
       "      <td>[0.0030033055]</td>\n",
       "      <td>[0.0023797469]</td>\n",
       "      <td>[0.41398165]</td>\n",
       "      <td>[0.032795556]</td>\n",
       "      <td>[ se cierra desde base imposibilidad de ingresar]</td>\n",
       "    </tr>\n",
       "    <tr>\n",
       "      <th>296</th>\n",
       "      <td>seguridad</td>\n",
       "      <td>seguridad</td>\n",
       "      <td>0.944448</td>\n",
       "      <td>[0.0006246823]</td>\n",
       "      <td>[0.00385487]</td>\n",
       "      <td>[0.017242653]</td>\n",
       "      <td>[0.028353343]</td>\n",
       "      <td>[0.0053520286]</td>\n",
       "      <td>[0.9444479]</td>\n",
       "      <td>[7.658151e-05]</td>\n",
       "      <td>[4.795645e-05]</td>\n",
       "      <td>[ se coloco tapa rectangular chica i adecuado recinto]</td>\n",
       "    </tr>\n",
       "    <tr>\n",
       "      <th>297</th>\n",
       "      <td>seguridad</td>\n",
       "      <td>marketing</td>\n",
       "      <td>0.730979</td>\n",
       "      <td>[0.01746873]</td>\n",
       "      <td>[0.02744228]</td>\n",
       "      <td>[0.7309788]</td>\n",
       "      <td>[0.0882449]</td>\n",
       "      <td>[0.019792087]</td>\n",
       "      <td>[0.02044655]</td>\n",
       "      <td>[0.017657587]</td>\n",
       "      <td>[0.077969044]</td>\n",
       "      <td>[ se termino ]</td>\n",
       "    </tr>\n",
       "    <tr>\n",
       "      <th>298</th>\n",
       "      <td>ok_equipo</td>\n",
       "      <td>reparacion</td>\n",
       "      <td>0.899171</td>\n",
       "      <td>[0.0006567311]</td>\n",
       "      <td>[0.89917135]</td>\n",
       "      <td>[0.02137186]</td>\n",
       "      <td>[0.060068537]</td>\n",
       "      <td>[2.590601e-05]</td>\n",
       "      <td>[0.0013791014]</td>\n",
       "      <td>[0.0171417]</td>\n",
       "      <td>[0.00018477265]</td>\n",
       "      <td>[ se verifico circuito se ve sistema c sistema funciona correctamente todo medido ]</td>\n",
       "    </tr>\n",
       "    <tr>\n",
       "      <th>299</th>\n",
       "      <td>ok_equipo</td>\n",
       "      <td>visitada</td>\n",
       "      <td>0.970955</td>\n",
       "      <td>[0.00013891165]</td>\n",
       "      <td>[0.0008888332]</td>\n",
       "      <td>[0.012918826]</td>\n",
       "      <td>[0.9709554]</td>\n",
       "      <td>[0.00017107769]</td>\n",
       "      <td>[0.014365015]</td>\n",
       "      <td>[0.00015452884]</td>\n",
       "      <td>[0.0004074326]</td>\n",
       "      <td>[ se verifico medidor normal sin anomalia]</td>\n",
       "    </tr>\n",
       "  </tbody>\n",
       "</table>\n",
       "<p>300 rows × 12 columns</p>\n",
       "</div>"
      ],
      "text/plain": [
       "    Clase.Original    Clase.LSTM  Certeza.Maxima     pr.intrusion    pr.reparacion    pr.marketing      pr.visitada  pr.sin_realizar      pr.seguridad     pr.ok_equipo     pr.sin_tarea                                                                                                                                                                   texto\n",
       "0    ok_equipo      seguridad     0.979831        [0.00012207948]  [0.00021804571]  [0.0028395173]  [0.014518757]    [0.0024537675]   [0.97983116]      [4.9159194e-06]  [1.1708999e-05]  [ se encontro normal se cambio tapa rectangular chica]                                                                                                                \n",
       "1    ok_equipo      ok_equipo     0.810248        [0.00023959276]  [0.1845817]      [0.003960853]   [0.0006513458]   [3.49516e-05]    [0.000112277514]  [0.8102479]      [0.00017144982]  [ a garita le pasan suministro desde vivienda empleado aduce que no puede tomar esa decision y hacerse cargo jefe del mismo no le atendio su llamado ]                \n",
       "2    seguridad      seguridad     0.916923        [0.001510272]    [0.0020169884]   [0.034251485]   [0.01615637]     [0.028890103]    [0.9169226]       [9.514357e-05]   [0.0001569592]   [ se verifico instalacion y carga del medidor sin anomalias se cambio tapa plastica por rota y opaca se adecuo ]                                                      \n",
       "3    reparacion     sin_realizar  0.834132        [0.08344119]     [0.019378759]    [0.030196577]   [0.00085101824]  [0.834132]       [0.02546756]      [0.0050521065]   [0.0014808266]   [ se cargo por segunda vez a womse cambio medidor por sistema movil trabado a causa se inundo la sala de medidores y afecto a varios se normaliza todos los afectados]\n",
       "4    sin_tarea      marketing     0.730979        [0.01746873]     [0.02744228]     [0.7309788]     [0.0882449]      [0.019792087]    [0.02044655]      [0.017657587]    [0.077969044]    [ nombre retamar movil legajo ayudante ]                                                                                                                              \n",
       "..         ...            ...          ...                 ...              ...             ...             ...                ...             ...                ...              ...                                         ...                                                                                                                              \n",
       "295  ok_equipo      marketing     0.436719        [0.008086472]    [0.09339081]     [0.43671864]    [0.009643806]    [0.0030033055]   [0.0023797469]    [0.41398165]     [0.032795556]    [ se cierra desde base imposibilidad de ingresar]                                                                                                                     \n",
       "296  seguridad      seguridad     0.944448        [0.0006246823]   [0.00385487]     [0.017242653]   [0.028353343]    [0.0053520286]   [0.9444479]       [7.658151e-05]   [4.795645e-05]   [ se coloco tapa rectangular chica i adecuado recinto]                                                                                                                \n",
       "297  seguridad      marketing     0.730979        [0.01746873]     [0.02744228]     [0.7309788]     [0.0882449]      [0.019792087]    [0.02044655]      [0.017657587]    [0.077969044]    [ se termino ]                                                                                                                                                        \n",
       "298  ok_equipo      reparacion    0.899171        [0.0006567311]   [0.89917135]     [0.02137186]    [0.060068537]    [2.590601e-05]   [0.0013791014]    [0.0171417]      [0.00018477265]  [ se verifico circuito se ve sistema c sistema funciona correctamente todo medido ]                                                                                   \n",
       "299  ok_equipo      visitada      0.970955        [0.00013891165]  [0.0008888332]   [0.012918826]   [0.9709554]      [0.00017107769]  [0.014365015]     [0.00015452884]  [0.0004074326]   [ se verifico medidor normal sin anomalia]                                                                                                                            \n",
       "\n",
       "[300 rows x 12 columns]"
      ]
     },
     "execution_count": 32,
     "metadata": {},
     "output_type": "execute_result"
    }
   ],
   "source": [
    "pd.set_option('max_columns', 75)\n",
    "print(df_resultado.shape)\n",
    "df_resultado.head(300)"
   ]
  },
  {
   "cell_type": "code",
   "execution_count": 33,
   "metadata": {
    "scrolled": true
   },
   "outputs": [],
   "source": [
    "dataset_resultado = 'prediccion_inspecciones_lstm_completo_sample_1000_20220531.xlsx'\n",
    "df_resultado.to_excel(dataset_resultado, engine='xlsxwriter')"
   ]
  }
 ],
 "metadata": {
  "instance_type": "ml.m5.large",
  "kernelspec": {
   "display_name": "Python 3",
   "language": "python",
   "name": "python3"
  },
  "language_info": {
   "codemirror_mode": {
    "name": "ipython",
    "version": 3
   },
   "file_extension": ".py",
   "mimetype": "text/x-python",
   "name": "python",
   "nbconvert_exporter": "python",
   "pygments_lexer": "ipython3",
   "version": "3.7.8"
  }
 },
 "nbformat": 4,
 "nbformat_minor": 4
}
